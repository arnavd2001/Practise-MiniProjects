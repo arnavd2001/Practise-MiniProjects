{
  "nbformat": 4,
  "nbformat_minor": 0,
  "metadata": {
    "colab": {
      "name": "os library usage.ipynb",
      "provenance": [],
      "collapsed_sections": [],
      "authorship_tag": "ABX9TyNHIiQnhgOu2juDUqzz6HeY",
      "include_colab_link": true
    },
    "kernelspec": {
      "name": "python3",
      "display_name": "Python 3"
    },
    "language_info": {
      "name": "python"
    }
  },
  "cells": [
    {
      "cell_type": "markdown",
      "metadata": {
        "id": "view-in-github",
        "colab_type": "text"
      },
      "source": [
        "<a href=\"https://colab.research.google.com/github/arnavd2001/Practise-MiniProjects/blob/main/os_library_usage.ipynb\" target=\"_parent\"><img src=\"https://colab.research.google.com/assets/colab-badge.svg\" alt=\"Open In Colab\"/></a>"
      ]
    },
    {
      "cell_type": "code",
      "execution_count": 1,
      "metadata": {
        "colab": {
          "base_uri": "https://localhost:8080/"
        },
        "id": "RU0dkRce4-Ro",
        "outputId": "0af2f348-054d-4612-f96a-28b5d77b409d"
      },
      "outputs": [
        {
          "output_type": "stream",
          "name": "stdout",
          "text": [
            "['CLD_CONTINUED', 'CLD_DUMPED', 'CLD_EXITED', 'CLD_TRAPPED', 'DirEntry', 'EX_CANTCREAT', 'EX_CONFIG', 'EX_DATAERR', 'EX_IOERR', 'EX_NOHOST', 'EX_NOINPUT', 'EX_NOPERM', 'EX_NOUSER', 'EX_OK', 'EX_OSERR', 'EX_OSFILE', 'EX_PROTOCOL', 'EX_SOFTWARE', 'EX_TEMPFAIL', 'EX_UNAVAILABLE', 'EX_USAGE', 'F_LOCK', 'F_OK', 'F_TEST', 'F_TLOCK', 'F_ULOCK', 'GRND_NONBLOCK', 'GRND_RANDOM', 'MutableMapping', 'NGROUPS_MAX', 'O_ACCMODE', 'O_APPEND', 'O_ASYNC', 'O_CLOEXEC', 'O_CREAT', 'O_DIRECT', 'O_DIRECTORY', 'O_DSYNC', 'O_EXCL', 'O_LARGEFILE', 'O_NDELAY', 'O_NOATIME', 'O_NOCTTY', 'O_NOFOLLOW', 'O_NONBLOCK', 'O_PATH', 'O_RDONLY', 'O_RDWR', 'O_RSYNC', 'O_SYNC', 'O_TMPFILE', 'O_TRUNC', 'O_WRONLY', 'POSIX_FADV_DONTNEED', 'POSIX_FADV_NOREUSE', 'POSIX_FADV_NORMAL', 'POSIX_FADV_RANDOM', 'POSIX_FADV_SEQUENTIAL', 'POSIX_FADV_WILLNEED', 'PRIO_PGRP', 'PRIO_PROCESS', 'PRIO_USER', 'P_ALL', 'P_NOWAIT', 'P_NOWAITO', 'P_PGID', 'P_PID', 'P_WAIT', 'PathLike', 'RTLD_DEEPBIND', 'RTLD_GLOBAL', 'RTLD_LAZY', 'RTLD_LOCAL', 'RTLD_NODELETE', 'RTLD_NOLOAD', 'RTLD_NOW', 'RWF_DSYNC', 'RWF_HIPRI', 'RWF_NOWAIT', 'RWF_SYNC', 'R_OK', 'SCHED_BATCH', 'SCHED_FIFO', 'SCHED_IDLE', 'SCHED_OTHER', 'SCHED_RESET_ON_FORK', 'SCHED_RR', 'SEEK_CUR', 'SEEK_DATA', 'SEEK_END', 'SEEK_HOLE', 'SEEK_SET', 'ST_APPEND', 'ST_MANDLOCK', 'ST_NOATIME', 'ST_NODEV', 'ST_NODIRATIME', 'ST_NOEXEC', 'ST_NOSUID', 'ST_RDONLY', 'ST_RELATIME', 'ST_SYNCHRONOUS', 'ST_WRITE', 'TMP_MAX', 'WCONTINUED', 'WCOREDUMP', 'WEXITED', 'WEXITSTATUS', 'WIFCONTINUED', 'WIFEXITED', 'WIFSIGNALED', 'WIFSTOPPED', 'WNOHANG', 'WNOWAIT', 'WSTOPPED', 'WSTOPSIG', 'WTERMSIG', 'WUNTRACED', 'W_OK', 'XATTR_CREATE', 'XATTR_REPLACE', 'XATTR_SIZE_MAX', 'X_OK', '_Environ', '__all__', '__builtins__', '__cached__', '__doc__', '__file__', '__loader__', '__name__', '__package__', '__spec__', '_check_methods', '_execvpe', '_exists', '_exit', '_fspath', '_fwalk', '_get_exports_list', '_putenv', '_spawnvef', '_unsetenv', '_wrap_close', 'abc', 'abort', 'access', 'altsep', 'chdir', 'chmod', 'chown', 'chroot', 'close', 'closerange', 'confstr', 'confstr_names', 'cpu_count', 'ctermid', 'curdir', 'defpath', 'device_encoding', 'devnull', 'dup', 'dup2', 'environ', 'environb', 'error', 'execl', 'execle', 'execlp', 'execlpe', 'execv', 'execve', 'execvp', 'execvpe', 'extsep', 'fchdir', 'fchmod', 'fchown', 'fdatasync', 'fdopen', 'fork', 'forkpty', 'fpathconf', 'fsdecode', 'fsencode', 'fspath', 'fstat', 'fstatvfs', 'fsync', 'ftruncate', 'fwalk', 'get_blocking', 'get_exec_path', 'get_inheritable', 'get_terminal_size', 'getcwd', 'getcwdb', 'getegid', 'getenv', 'getenvb', 'geteuid', 'getgid', 'getgrouplist', 'getgroups', 'getloadavg', 'getlogin', 'getpgid', 'getpgrp', 'getpid', 'getppid', 'getpriority', 'getrandom', 'getresgid', 'getresuid', 'getsid', 'getuid', 'getxattr', 'initgroups', 'isatty', 'kill', 'killpg', 'lchown', 'linesep', 'link', 'listdir', 'listxattr', 'lockf', 'lseek', 'lstat', 'major', 'makedev', 'makedirs', 'minor', 'mkdir', 'mkfifo', 'mknod', 'name', 'nice', 'open', 'openpty', 'pardir', 'path', 'pathconf', 'pathconf_names', 'pathsep', 'pipe', 'pipe2', 'popen', 'posix_fadvise', 'posix_fallocate', 'pread', 'preadv', 'putenv', 'pwrite', 'pwritev', 'read', 'readlink', 'readv', 'register_at_fork', 'remove', 'removedirs', 'removexattr', 'rename', 'renames', 'replace', 'rmdir', 'scandir', 'sched_get_priority_max', 'sched_get_priority_min', 'sched_getaffinity', 'sched_getparam', 'sched_getscheduler', 'sched_param', 'sched_rr_get_interval', 'sched_setaffinity', 'sched_setparam', 'sched_setscheduler', 'sched_yield', 'sendfile', 'sep', 'set_blocking', 'set_inheritable', 'setegid', 'seteuid', 'setgid', 'setgroups', 'setpgid', 'setpgrp', 'setpriority', 'setregid', 'setresgid', 'setresuid', 'setreuid', 'setsid', 'setuid', 'setxattr', 'spawnl', 'spawnle', 'spawnlp', 'spawnlpe', 'spawnv', 'spawnve', 'spawnvp', 'spawnvpe', 'st', 'stat', 'stat_result', 'statvfs', 'statvfs_result', 'strerror', 'supports_bytes_environ', 'supports_dir_fd', 'supports_effective_ids', 'supports_fd', 'supports_follow_symlinks', 'symlink', 'sync', 'sys', 'sysconf', 'sysconf_names', 'system', 'tcgetpgrp', 'tcsetpgrp', 'terminal_size', 'times', 'times_result', 'truncate', 'ttyname', 'umask', 'uname', 'uname_result', 'unlink', 'unsetenv', 'urandom', 'utime', 'wait', 'wait3', 'wait4', 'waitid', 'waitid_result', 'waitpid', 'walk', 'write', 'writev']\n"
          ]
        }
      ],
      "source": [
        "import os\n",
        "print(dir(os))"
      ]
    },
    {
      "cell_type": "markdown",
      "source": [
        "- OS is a built in library\n",
        "- dir(os) shows us what all attributes and methods we have access to\n",
        "- os.getcwd() will get us the current working directory\n",
        "- os.chdir('path') will change the current working directory\n",
        "- os.listdir() lists the files in the CWD\n"
      ],
      "metadata": {
        "id": "gRHFpFfK5TqB"
      }
    },
    {
      "cell_type": "code",
      "source": [
        "print(os.getcwd())"
      ],
      "metadata": {
        "colab": {
          "base_uri": "https://localhost:8080/"
        },
        "id": "xYeDnMr75PfR",
        "outputId": "fd06d090-1951-488f-94f4-f29019a93537"
      },
      "execution_count": 2,
      "outputs": [
        {
          "output_type": "stream",
          "name": "stdout",
          "text": [
            "/content\n"
          ]
        }
      ]
    },
    {
      "cell_type": "code",
      "source": [
        "print(os.listdir())"
      ],
      "metadata": {
        "colab": {
          "base_uri": "https://localhost:8080/"
        },
        "id": "9CXPw_s_6RV4",
        "outputId": "0984ca16-828e-4faf-b71d-3f4636826b98"
      },
      "execution_count": 3,
      "outputs": [
        {
          "output_type": "stream",
          "name": "stdout",
          "text": [
            "['.config', 'sample_data']\n"
          ]
        }
      ]
    },
    {
      "cell_type": "markdown",
      "source": [
        "- os.mkdir('path') and os.makedirs('path') make directories\n",
        "- makedir is used if we want to create a directory\n",
        "- makedirs is used if we want to create multiple directories (i.e. subdirectories and all)\n",
        "- os.makedirs('path')\n",
        "- Similar to mkdir and makedir, we have rmdir and removedirsSimilar to mkdir and makedir, we have rmdir and removedirs\n",
        "- os.rename('original_file_name','name to be changed')\n",
        "- "
      ],
      "metadata": {
        "id": "Ez888dCJ7g6R"
      }
    },
    {
      "cell_type": "code",
      "source": [
        "os.mkdir('falana.txt')"
      ],
      "metadata": {
        "id": "AUHSxg6CuvZK"
      },
      "execution_count": 5,
      "outputs": []
    },
    {
      "cell_type": "code",
      "source": [
        "os.chdir('falana.txt')\n",
        "os.rename('heya.txt', 'yo.txt')"
      ],
      "metadata": {
        "id": "Tf8fb_juvv4B"
      },
      "execution_count": 7,
      "outputs": []
    },
    {
      "cell_type": "code",
      "source": [
        "print(os.stat('yo.txt'))\n"
      ],
      "metadata": {
        "colab": {
          "base_uri": "https://localhost:8080/",
          "height": 110
        },
        "id": "WHVthoTxwI5M",
        "outputId": "669edd03-b871-4bca-99e7-84eb194f9cd8"
      },
      "execution_count": 12,
      "outputs": [
        {
          "output_type": "stream",
          "name": "stdout",
          "text": [
            "os.stat_result(st_mode=33188, st_ino=3145736, st_dev=37, st_nlink=1, st_uid=0, st_gid=0, st_size=0, st_atime=1654665514, st_mtime=1654665514, st_ctime=1654665577)\n"
          ]
        },
        {
          "output_type": "execute_result",
          "data": {
            "text/plain": [
              "'\\nst_mode − protection bits.\\n\\nst_ino − inode number.\\n\\nst_dev − device.\\n\\nst_nlink − number of hard links.\\n\\nst_uid − user id of owner.\\n\\nst_gid − group id of owner.\\n\\nst_size − size of file, in bytes.\\n\\nst_atime − time of most recent access.\\n\\nst_mtime − time of most recent content modification.\\n\\nst_ctime − time of most recent metadata change.\\n\\n'"
            ],
            "application/vnd.google.colaboratory.intrinsic+json": {
              "type": "string"
            }
          },
          "metadata": {},
          "execution_count": 12
        }
      ]
    },
    {
      "cell_type": "markdown",
      "source": [
        "we can make user understandable developments from the values that are returned in machine time.\n",
        "\n",
        "\n",
        "st_mode − protection bits.\n",
        "\n",
        "st_ino − inode number.\n",
        "\n",
        "st_dev − device.\n",
        "\n",
        "st_nlink − number of hard links.\n",
        "\n",
        "st_uid − user id of owner.\n",
        "\n",
        "st_gid − group id of owner.\n",
        "\n",
        "st_size − size of file, in bytes.\n",
        "\n",
        "st_atime − time of most recent access.\n",
        "\n",
        "st_mtime − time of most recent content modification.\n",
        "\n",
        "st_ctime − time of most recent metadata change.\n"
      ],
      "metadata": {
        "id": "UHYy9uFT4EPS"
      }
    },
    {
      "cell_type": "code",
      "source": [
        "os.walk('/content/falana.txt')"
      ],
      "metadata": {
        "colab": {
          "base_uri": "https://localhost:8080/"
        },
        "id": "mXXhVsJlxcgM",
        "outputId": "43880d58-1a63-47f8-9187-2462bfa09929"
      },
      "execution_count": 20,
      "outputs": [
        {
          "output_type": "execute_result",
          "data": {
            "text/plain": [
              "<generator object walk at 0x7f8aa50e1350>"
            ]
          },
          "metadata": {},
          "execution_count": 20
        }
      ]
    },
    {
      "cell_type": "code",
      "source": [
        "for dirpath, dirnames, filenames in os.walk(os.getcwd()):\n",
        "  print(\"Current Path\", dirpath)\n",
        "  print(\"Directories\", dirnames)\n",
        "  print(\"Files\", filenames)"
      ],
      "metadata": {
        "colab": {
          "base_uri": "https://localhost:8080/"
        },
        "id": "NeKDRtzV1gbj",
        "outputId": "c6e8b52e-5228-42fc-d9a0-61fcb86a02f3"
      },
      "execution_count": 21,
      "outputs": [
        {
          "output_type": "stream",
          "name": "stdout",
          "text": [
            "Current Path /content/falana.txt\n",
            "Directories ['.ipynb_checkpoints']\n",
            "Files ['yo.txt']\n",
            "Current Path /content/falana.txt/.ipynb_checkpoints\n",
            "Directories []\n",
            "Files []\n"
          ]
        }
      ]
    },
    {
      "cell_type": "code",
      "source": [
        "os.getcwd()"
      ],
      "metadata": {
        "colab": {
          "base_uri": "https://localhost:8080/",
          "height": 36
        },
        "id": "kNMAz0st3Gqj",
        "outputId": "c742b31e-391a-40bd-cf27-3a0dce5b09c8"
      },
      "execution_count": 22,
      "outputs": [
        {
          "output_type": "execute_result",
          "data": {
            "text/plain": [
              "'/content/falana.txt'"
            ],
            "application/vnd.google.colaboratory.intrinsic+json": {
              "type": "string"
            }
          },
          "metadata": {},
          "execution_count": 22
        }
      ]
    },
    {
      "cell_type": "markdown",
      "source": [
        "\n",
        "traversing the entire directory tree\n",
        "\n",
        "1. By Default it traverses Top - Down\n",
        "2. The three parameters are - dirpath, dirnames, filenames\n",
        "\n",
        "\n",
        "os.walk(top[, topdown=True[, onerror=None[, followlinks=False]]])\n",
        "\n",
        "\n",
        "Parameters\n",
        "top − Each directory rooted at directory, yields 3-tuples, i.e., (dirpath, dirnames, filenames)\n",
        "\n",
        "topdown − If optional argument topdown is True or not specified, directories are scanned from top-down. If topdown is set to False, directories are scanned from bottom-up.\n",
        "\n",
        "onerror − This can show error to continue with the walk, or raise the exception to abort the walk.\n",
        "\n",
        "followlinks − This visits directories pointed to by symlinks, if set to true.\n"
      ],
      "metadata": {
        "id": "joO5YPcQ3yJO"
      }
    },
    {
      "cell_type": "code",
      "source": [
        "# lets see the access to environment variables\n",
        "print(os.environ.get('HOME'))\n",
        "# how can we combine the Environment Variables that we received from above and a new filename?\n",
        "'test.txt'\n",
        "#concatenting the strings is hard, because we may miss the slashes here and there, and thus the file path will become wrong,so use os.path.join instead\n",
        "file_path=os.path.join(os.environ.get('HOME'), 'test.txt')\n",
        "print(file_path)\n",
        "#it automatically adds the slash"
      ],
      "metadata": {
        "colab": {
          "base_uri": "https://localhost:8080/"
        },
        "id": "0FHawGfC3HuV",
        "outputId": "bae52622-6520-4ed4-b870-070e3e87746a"
      },
      "execution_count": 26,
      "outputs": [
        {
          "output_type": "stream",
          "name": "stdout",
          "text": [
            "/root\n",
            "/root/test.txt\n"
          ]
        }
      ]
    },
    {
      "cell_type": "code",
      "source": [
        "#you can create a file in the location too\n",
        "\n",
        "#with open(file_path, 'w') as f:\n",
        "#  f.wte()"
      ],
      "metadata": {
        "id": "DO9PgrFr5FV8"
      },
      "execution_count": 30,
      "outputs": []
    },
    {
      "cell_type": "code",
      "source": [
        "#os.path.basename() --> returns the basename of the file from the file path\n",
        "#os.path.dirname() --> returns the directory name of the file from the file path\n",
        "\n",
        "print(os.path.basename('tmp/falana/x.txt'))\n",
        "print(os.path.dirname('tmp/falana/x.txt'))\n",
        "print(os.path.split('tmp/falana/x.txt'))\n",
        "#splits the path into directory and filename\n",
        "\n",
        "os.path.exists('tmp/falana/x.txt')#checking if it actually exists\n",
        "os.path.isdir('tmp/falana/x') # chec if directory\n",
        "os.path.isfile('tmp/falana/x.txt') #check if file or not\n",
        "os.path.splitext('tmp/falana/x.txt') #split the file extension and the other parts\n",
        "#easier than splicing"
      ],
      "metadata": {
        "colab": {
          "base_uri": "https://localhost:8080/"
        },
        "id": "qYlrAncv7Oeu",
        "outputId": "409a55f2-ff7b-464a-835c-001db0acea8f"
      },
      "execution_count": 40,
      "outputs": [
        {
          "output_type": "stream",
          "name": "stdout",
          "text": [
            "x.txt\n",
            "tmp/falana\n",
            "('tmp/falana', 'x.txt')\n"
          ]
        },
        {
          "output_type": "execute_result",
          "data": {
            "text/plain": [
              "('tmp/falana/x', '.txt')"
            ]
          },
          "metadata": {},
          "execution_count": 40
        }
      ]
    },
    {
      "cell_type": "code",
      "source": [
        "print(dir(os.path))\n",
        "#See all thats available"
      ],
      "metadata": {
        "colab": {
          "base_uri": "https://localhost:8080/"
        },
        "id": "sQ0w-vrqAWmU",
        "outputId": "85a01ab7-2b4d-41ac-888b-0647af700839"
      },
      "execution_count": 42,
      "outputs": [
        {
          "output_type": "stream",
          "name": "stdout",
          "text": [
            "['__all__', '__builtins__', '__cached__', '__doc__', '__file__', '__loader__', '__name__', '__package__', '__spec__', '_get_sep', '_joinrealpath', '_varprog', '_varprogb', 'abspath', 'altsep', 'basename', 'commonpath', 'commonprefix', 'curdir', 'defpath', 'devnull', 'dirname', 'exists', 'expanduser', 'expandvars', 'extsep', 'genericpath', 'getatime', 'getctime', 'getmtime', 'getsize', 'isabs', 'isdir', 'isfile', 'islink', 'ismount', 'join', 'lexists', 'normcase', 'normpath', 'os', 'pardir', 'pathsep', 'realpath', 'relpath', 'samefile', 'sameopenfile', 'samestat', 'sep', 'split', 'splitdrive', 'splitext', 'stat', 'supports_unicode_filenames', 'sys']\n"
          ]
        }
      ]
    },
    {
      "cell_type": "code",
      "source": [
        ""
      ],
      "metadata": {
        "id": "INOkR7bIDN45"
      },
      "execution_count": null,
      "outputs": []
    }
  ]
}