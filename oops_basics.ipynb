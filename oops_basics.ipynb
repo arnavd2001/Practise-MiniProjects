{
  "nbformat": 4,
  "nbformat_minor": 0,
  "metadata": {
    "colab": {
      "name": "oops_basics.ipynb",
      "provenance": [],
      "authorship_tag": "ABX9TyMlNFWSyst8lYGW+hzY+mhi",
      "include_colab_link": true
    },
    "kernelspec": {
      "name": "python3",
      "display_name": "Python 3"
    },
    "language_info": {
      "name": "python"
    }
  },
  "cells": [
    {
      "cell_type": "markdown",
      "metadata": {
        "id": "view-in-github",
        "colab_type": "text"
      },
      "source": [
        "<a href=\"https://colab.research.google.com/github/arnavd2001/Practise-MiniProjects/blob/main/oops_basics.ipynb\" target=\"_parent\"><img src=\"https://colab.research.google.com/assets/colab-badge.svg\" alt=\"Open In Colab\"/></a>"
      ]
    },
    {
      "cell_type": "code",
      "execution_count": null,
      "metadata": {
        "colab": {
          "base_uri": "https://localhost:8080/"
        },
        "id": "quP8l4qjmcOX",
        "outputId": "04b3e1f2-9fed-497f-de03-fa4ec79ce33f"
      },
      "outputs": [
        {
          "output_type": "stream",
          "name": "stdout",
          "text": [
            "<class '__main__.Computer'>\n"
          ]
        }
      ],
      "source": [
        "class Computer:\n",
        "  def add(a,b):\n",
        "    c=a+b\n",
        "    print(c)\n",
        "temp = Computer()\n",
        "print(type(temp))"
      ]
    },
    {
      "cell_type": "markdown",
      "source": [
        "Everything is an Object in Python.\n",
        "\n",
        "An Object is an instance of a Class.\n",
        "Whereas the Class is the basic design of anything.\n",
        "\n",
        "Design of a Phone - Class\n",
        "Manufacturing - Creation of Objects\n",
        "\n",
        "Functions are called as Methods in OOPS\n",
        "\n",
        "To access a method inside a Class, we have to call it with its class name."
      ],
      "metadata": {
        "id": "Gn2DH2lDp7B1"
      }
    },
    {
      "cell_type": "code",
      "source": [
        "Computer.add(4,5)"
      ],
      "metadata": {
        "colab": {
          "base_uri": "https://localhost:8080/"
        },
        "id": "9SlUGOQkps_x",
        "outputId": "556ba08d-1bfa-49f9-8db2-6795b9478c1c"
      },
      "execution_count": null,
      "outputs": [
        {
          "output_type": "stream",
          "name": "stdout",
          "text": [
            "9\n"
          ]
        }
      ]
    },
    {
      "cell_type": "code",
      "source": [
        "class Computer1:\n",
        "  def config(self):\n",
        "    print(\"c\")\n",
        "#self is the object which youre passing\n",
        "temp = Computer1()\n",
        "temp1 = Computer1()"
      ],
      "metadata": {
        "id": "qIsh4A7pq1n8"
      },
      "execution_count": null,
      "outputs": []
    },
    {
      "cell_type": "code",
      "source": [
        "Computer1.config(temp) # Object Creation\n",
        "Computer1.config(temp1) #Object Creation"
      ],
      "metadata": {
        "colab": {
          "base_uri": "https://localhost:8080/"
        },
        "id": "X8DJ_5WCruc8",
        "outputId": "e504516f-4a64-45a4-89a6-852f4a241c97"
      },
      "execution_count": null,
      "outputs": [
        {
          "output_type": "stream",
          "name": "stdout",
          "text": [
            "c\n",
            "c\n"
          ]
        }
      ]
    },
    {
      "cell_type": "code",
      "source": [
        "temp.config()\n",
        "#behing the scenes Config tool temp as a parameter (argument) - for self"
      ],
      "metadata": {
        "colab": {
          "base_uri": "https://localhost:8080/"
        },
        "id": "AHMHc4rUr1rD",
        "outputId": "c4bbd1b9-d4de-4329-ef51-c68c6d1e909b"
      },
      "execution_count": null,
      "outputs": [
        {
          "output_type": "stream",
          "name": "stdout",
          "text": [
            "c\n"
          ]
        }
      ]
    },
    {
      "cell_type": "markdown",
      "source": [
        "Object Will have = \n",
        "\n",
        "1. Attributes - \n",
        "Variables\n",
        "2. Behaviours - Methods (Fuctions)\n",
        "\n",
        "Special methods are identified by a double underscore at either side of their name, such as __init__. For Every Object Creation, we would call the init Object Once"
      ],
      "metadata": {
        "id": "GFJXMfQEtNI5"
      }
    },
    {
      "cell_type": "code",
      "source": [
        "# some examples on __init__\n",
        "class Coke:\n",
        "  def __init__(self):\n",
        "    print(\"Hello\")"
      ],
      "metadata": {
        "id": "kEOI2trUuIRQ"
      },
      "execution_count": 8,
      "outputs": []
    },
    {
      "cell_type": "code",
      "source": [
        "temp = Coke()"
      ],
      "metadata": {
        "colab": {
          "base_uri": "https://localhost:8080/"
        },
        "id": "3tQXatpV4jax",
        "outputId": "da277535-316a-4708-ad6e-e2503f700c68"
      },
      "execution_count": 9,
      "outputs": [
        {
          "output_type": "stream",
          "name": "stdout",
          "text": [
            "Hello\n"
          ]
        }
      ]
    },
    {
      "cell_type": "code",
      "source": [
        "class Dog:\n",
        "  def __init__(self, falana, dhimkana):\n",
        "    self.x = falana \n",
        "    self.y = dhimkana \n",
        "#we create two variables and link them to self and then assign them values from the arguments\n",
        "\n",
        "#now lets create a object\n",
        "\n",
        "instance = Dog(\"Lucky\", \"Labrador\")#be sure of what datatype youre passing\n",
        "\n",
        "print(\"I have a \",instance.y,\"whom I have named\",instance.x)\n",
        "\n"
      ],
      "metadata": {
        "colab": {
          "base_uri": "https://localhost:8080/"
        },
        "id": "aG9naCJj4sNO",
        "outputId": "c7881c18-4ea2-4dee-faff-4e7da4e70d1e"
      },
      "execution_count": 12,
      "outputs": [
        {
          "output_type": "stream",
          "name": "stdout",
          "text": [
            "I have a  Labrador whom I have named Lucky\n"
          ]
        }
      ]
    },
    {
      "cell_type": "code",
      "source": [
        "class Cat:\n",
        "  def __init__(self):\n",
        "    self.legs=4\n",
        "instance = Cat()\n",
        "print(\"My cat has\",instance.legs,\"legs. She runs well.\")"
      ],
      "metadata": {
        "colab": {
          "base_uri": "https://localhost:8080/"
        },
        "id": "YrQuujO_57W5",
        "outputId": "c498c69e-cf85-4cce-a493-baf5f5da59c4"
      },
      "execution_count": 17,
      "outputs": [
        {
          "output_type": "stream",
          "name": "stdout",
          "text": [
            "My cat has 4 legs. She runs well.\n"
          ]
        }
      ]
    },
    {
      "cell_type": "code",
      "source": [
        "class Fish:\n",
        "  def __init__(self,falana = \"Lucky\", dhimkana = \"Labrador\"):\n",
        "    self.x=falana\n",
        "    self.y = dhimkana\n",
        "instance = Fish()\n",
        "print(\"I have a \",instance.y,\"whom I have named\",instance.x)\n",
        "# different way to pass the parameters"
      ],
      "metadata": {
        "colab": {
          "base_uri": "https://localhost:8080/"
        },
        "id": "77NI1m7X6o7c",
        "outputId": "e1689c74-ceb2-4416-e525-174150187f4c"
      },
      "execution_count": 19,
      "outputs": [
        {
          "output_type": "stream",
          "name": "stdout",
          "text": [
            "I have a  Labrador whom I have named Lucky\n"
          ]
        }
      ]
    },
    {
      "cell_type": "markdown",
      "source": [
        "- every time we create a object it will occupy a different memory space\n",
        "- size depends on the no. of variables\n",
        "- we can change the values of variables in classes for objects\n",
        "- we can compare values by creating our own method in a class\n",
        "- "
      ],
      "metadata": {
        "id": "gTSUviwMADeo"
      }
    },
    {
      "cell_type": "code",
      "source": [
        "class Comparer:\n",
        "  def __init__(self):\n",
        "    self.name = \"Arnav\"\n",
        "    self.age = 20\n",
        "  def update(self):\n",
        "    self.age = 21\n",
        "  def comparer(self, other):\n",
        "    if(self.age == other.age):\n",
        "      print(\"Hey You are Equal Age\")\n",
        "    else:\n",
        "      print(\"One of you is an Oldie\")\n",
        "instance1 = Comparer()\n",
        "instance2 = Comparer()\n",
        "instance1.update()\n",
        "print(instance1.age) #will print the updated age\n",
        "instance1.comparer(instance2)"
      ],
      "metadata": {
        "colab": {
          "base_uri": "https://localhost:8080/"
        },
        "id": "-pDNC5A5hDwC",
        "outputId": "fdeff087-7186-4188-e11c-8178d121383d"
      },
      "execution_count": 8,
      "outputs": [
        {
          "output_type": "stream",
          "name": "stdout",
          "text": [
            "21\n",
            "One of you is an Oldie\n"
          ]
        }
      ]
    },
    {
      "cell_type": "markdown",
      "source": [
        "Two types of variables - \n",
        "\n",
        "1. Class Variables\n",
        "2. Instance Variables\n",
        "\n",
        "When we change the class variable, it gets updated for all the program."
      ],
      "metadata": {
        "id": "pNJciJoamHnI"
      }
    },
    {
      "cell_type": "code",
      "source": [
        "class Car:\n",
        "  wheels = 4#class variable\n",
        "  def __init__(self):\n",
        "    self.carname = \"Toyota Corolla\"#instance variable\n",
        "    self.ownerage = 21\n",
        "c1 = Car()\n",
        "c2 = Car()"
      ],
      "metadata": {
        "id": "wC0UgVHymWK0"
      },
      "execution_count": 10,
      "outputs": []
    },
    {
      "cell_type": "markdown",
      "source": [
        "#3 Types of Methods\n",
        "\n",
        "1. Static Methods\n",
        "2. Class Methods\n",
        "3. Instance Methods\n",
        "\n",
        "- all 3 behave differently\n",
        "- for Class Methods and Static Methods you would have to specify explicitly\n",
        "\n",
        "3. Instance Methods -  \n",
        "Getters and Setters.\n",
        "Different Get and set methods for different variables.\n",
        "Get  - Accessors\n",
        "Set - Mutators\n",
        "\n",
        "2. Class Methods - \n",
        "\n"
      ],
      "metadata": {
        "id": "UV8LzB7AqeZ9"
      }
    },
    {
      "cell_type": "code",
      "source": [
        "class Dis:\n",
        "\n",
        "  school = \"VIT\"\n",
        "  def __init__(self, m1, m2, m3):\n",
        "    self.m1 = m1\n",
        "    self.m2 = m2\n",
        "    self.m3 = m3\n",
        "\n",
        "#instance methods\n",
        "  def avg(self):\n",
        "    return (self.m1 + self.m2 +self.m3)/3\n",
        "  def get_m1(self):\n",
        "    return self.m1\n",
        "  def set_m1(self, value):\n",
        "    self.m1 = value\n",
        "\n",
        "#class methods\n",
        "  @classmethod #decorator\n",
        "  def get_school(cls):\n",
        "    return cls.school\n",
        "\n",
        "#static methods\n",
        "  @staticmethod #decorator\n",
        "  def info():\n",
        "    print(\"this is a static method. nothing related with the other two\")\n",
        "\n",
        "instance1 = Dis(23,54,23)\n",
        "instance2 = Dis(45,35,6)\n",
        "\n",
        "print(instance1.get_school())"
      ],
      "metadata": {
        "colab": {
          "base_uri": "https://localhost:8080/"
        },
        "id": "AK_Jwboh3f5j",
        "outputId": "53ca89ac-5e5b-4c4b-cb84-91e14a6b0eb6"
      },
      "execution_count": 25,
      "outputs": [
        {
          "output_type": "stream",
          "name": "stdout",
          "text": [
            "VIT\n"
          ]
        }
      ]
    },
    {
      "cell_type": "code",
      "source": [
        ""
      ],
      "metadata": {
        "id": "Q-43Vjgl3vgc"
      },
      "execution_count": null,
      "outputs": []
    }
  ]
}