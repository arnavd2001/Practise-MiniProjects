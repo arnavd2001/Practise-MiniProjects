{
  "nbformat": 4,
  "nbformat_minor": 0,
  "metadata": {
    "colab": {
      "name": "oops_basics.ipynb",
      "provenance": [],
      "authorship_tag": "ABX9TyNX9IeU/MbewciK+JLyxJpt",
      "include_colab_link": true
    },
    "kernelspec": {
      "name": "python3",
      "display_name": "Python 3"
    },
    "language_info": {
      "name": "python"
    }
  },
  "cells": [
    {
      "cell_type": "markdown",
      "metadata": {
        "id": "view-in-github",
        "colab_type": "text"
      },
      "source": [
        "<a href=\"https://colab.research.google.com/github/arnavd2001/Practise-MiniProjects/blob/main/oops_basics.ipynb\" target=\"_parent\"><img src=\"https://colab.research.google.com/assets/colab-badge.svg\" alt=\"Open In Colab\"/></a>"
      ]
    },
    {
      "cell_type": "code",
      "execution_count": 6,
      "metadata": {
        "colab": {
          "base_uri": "https://localhost:8080/"
        },
        "id": "quP8l4qjmcOX",
        "outputId": "04b3e1f2-9fed-497f-de03-fa4ec79ce33f"
      },
      "outputs": [
        {
          "output_type": "stream",
          "name": "stdout",
          "text": [
            "<class '__main__.Computer'>\n"
          ]
        }
      ],
      "source": [
        "class Computer:\n",
        "  def add(a,b):\n",
        "    c=a+b\n",
        "    print(c)\n",
        "temp = Computer()\n",
        "print(type(temp))"
      ]
    },
    {
      "cell_type": "markdown",
      "source": [
        "Everything is an Object in Python.\n",
        "\n",
        "An Object is an instance of a Class.\n",
        "Whereas the Class is the basic design of anything.\n",
        "\n",
        "Design of a Phone - Class\n",
        "Manufacturing - Creation of Objects\n",
        "\n",
        "Functions are called as Methods in OOPS\n",
        "\n",
        "To access a method inside a Class, we have to call it with its class name."
      ],
      "metadata": {
        "id": "Gn2DH2lDp7B1"
      }
    },
    {
      "cell_type": "code",
      "source": [
        "Computer.add(4,5)"
      ],
      "metadata": {
        "colab": {
          "base_uri": "https://localhost:8080/"
        },
        "id": "9SlUGOQkps_x",
        "outputId": "556ba08d-1bfa-49f9-8db2-6795b9478c1c"
      },
      "execution_count": 7,
      "outputs": [
        {
          "output_type": "stream",
          "name": "stdout",
          "text": [
            "9\n"
          ]
        }
      ]
    },
    {
      "cell_type": "code",
      "source": [
        "class Computer1:\n",
        "  def config(self):\n",
        "    print(\"c\")\n",
        "#self is the object which youre passing\n",
        "temp = Computer1()\n",
        "temp1 = Computer1()"
      ],
      "metadata": {
        "id": "qIsh4A7pq1n8"
      },
      "execution_count": 13,
      "outputs": []
    },
    {
      "cell_type": "code",
      "source": [
        "Computer1.config(temp) # Object Creation\n",
        "Computer1.config(temp1) #Object Creation"
      ],
      "metadata": {
        "colab": {
          "base_uri": "https://localhost:8080/"
        },
        "id": "X8DJ_5WCruc8",
        "outputId": "e504516f-4a64-45a4-89a6-852f4a241c97"
      },
      "execution_count": 18,
      "outputs": [
        {
          "output_type": "stream",
          "name": "stdout",
          "text": [
            "c\n",
            "c\n"
          ]
        }
      ]
    },
    {
      "cell_type": "code",
      "source": [
        "temp.config()\n",
        "#behing the scenes Config tool temp as a parameter (argument) - for self"
      ],
      "metadata": {
        "colab": {
          "base_uri": "https://localhost:8080/"
        },
        "id": "AHMHc4rUr1rD",
        "outputId": "c4bbd1b9-d4de-4329-ef51-c68c6d1e909b"
      },
      "execution_count": 17,
      "outputs": [
        {
          "output_type": "stream",
          "name": "stdout",
          "text": [
            "c\n"
          ]
        }
      ]
    },
    {
      "cell_type": "markdown",
      "source": [
        "Object Will have = \n",
        "\n",
        "1. Attributes - \n",
        "Variables\n",
        "2. Behaviours - Methods (Fuctions)\n",
        "\n",
        "Special methods are identified by a double underscore at either side of their name, such as __init__. For Every Object Creation, we would call the init Object Once"
      ],
      "metadata": {
        "id": "GFJXMfQEtNI5"
      }
    },
    {
      "cell_type": "code",
      "source": [
        ""
      ],
      "metadata": {
        "id": "kEOI2trUuIRQ"
      },
      "execution_count": null,
      "outputs": []
    }
  ]
}