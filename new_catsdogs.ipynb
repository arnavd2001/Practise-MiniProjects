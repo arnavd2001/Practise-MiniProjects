{
  "nbformat": 4,
  "nbformat_minor": 0,
  "metadata": {
    "accelerator": "GPU",
    "colab": {
      "name": "new_catsdogs.ipynb",
      "provenance": [],
      "collapsed_sections": [],
      "include_colab_link": true
    },
    "kernelspec": {
      "display_name": "Python 3",
      "name": "python3"
    },
    "language_info": {
      "name": "python"
    }
  },
  "cells": [
    {
      "cell_type": "markdown",
      "metadata": {
        "id": "view-in-github",
        "colab_type": "text"
      },
      "source": [
        "<a href=\"https://colab.research.google.com/github/arnavd2001/myDeepLearningJourney/blob/main/new_catsdogs.ipynb\" target=\"_parent\"><img src=\"https://colab.research.google.com/assets/colab-badge.svg\" alt=\"Open In Colab\"/></a>"
      ]
    },
    {
      "cell_type": "code",
      "metadata": {
        "colab": {
          "base_uri": "https://localhost:8080/"
        },
        "id": "18p52qHt_gJB",
        "outputId": "4f1091ed-1ec4-400a-d4bd-37c0581acef8"
      },
      "source": [
        "from google.colab import drive\n",
        "drive.mount('/content/gdrive')\n",
        "%cd /content"
      ],
      "execution_count": null,
      "outputs": [
        {
          "name": "stdout",
          "output_type": "stream",
          "text": [
            "Mounted at /content/gdrive\n",
            "/content\n"
          ]
        }
      ]
    },
    {
      "cell_type": "code",
      "metadata": {
        "id": "vGwaz2cLkjLn"
      },
      "source": [
        "!mkdir ~/.kaggle\n",
        "!touch ~/.kaggle/kaggle.json\n",
        "token = {\"username\":\"arnav007\",\"key\":\"c68bdf73dddd9d8e83cab3317788f7c9\"}\n",
        "import json\n",
        "with open('/root/.kaggle/kaggle.json', 'w') as file:\n",
        "    json.dump(token, file)\n",
        "!chmod 600 ~/.kaggle/kaggle.json"
      ],
      "execution_count": null,
      "outputs": []
    },
    {
      "cell_type": "code",
      "metadata": {
        "colab": {
          "base_uri": "https://localhost:8080/"
        },
        "id": "KkM4YElFZDXD",
        "outputId": "a768f548-c797-4136-83ea-e7b7cbd38af7"
      },
      "source": [
        "! kaggle datasets download -d arpitjain007/dog-vs-cat-fastai"
      ],
      "execution_count": null,
      "outputs": [
        {
          "name": "stdout",
          "output_type": "stream",
          "text": [
            "Downloading dog-vs-cat-fastai.zip to /content\n",
            " 99% 1.59G/1.60G [00:11<00:00, 150MB/s]\n",
            "100% 1.60G/1.60G [00:11<00:00, 149MB/s]\n"
          ]
        }
      ]
    },
    {
      "cell_type": "code",
      "metadata": {
        "id": "iVR3U8k9ZXsf"
      },
      "source": [
        "! unzip dog-vs-cat-fastai.zip"
      ],
      "execution_count": null,
      "outputs": []
    },
    {
      "cell_type": "code",
      "metadata": {
        "id": "BNCzyPh8ietK"
      },
      "source": [
        "! rm -r /content/sample_data\n",
        "! rm /content/dog-vs-cat-fastai.zip"
      ],
      "execution_count": null,
      "outputs": []
    },
    {
      "cell_type": "code",
      "metadata": {
        "id": "Vbk8xb3bjGTT"
      },
      "source": [
        "import numpy as np\n",
        "import cv2\n",
        "import os\n",
        "import matplotlib.pyplot as plt\n",
        "import random\n",
        "import pickle"
      ],
      "execution_count": null,
      "outputs": []
    },
    {
      "cell_type": "code",
      "metadata": {
        "id": "1IIUft2CjIm8"
      },
      "source": [
        "! rm -r /content/dogscats/dogscats"
      ],
      "execution_count": null,
      "outputs": []
    },
    {
      "cell_type": "code",
      "metadata": {
        "id": "IOHfhAor05ET"
      },
      "source": [
        "directory = r'/content/dogscats/train'\n",
        "category = ['cats','dogs']"
      ],
      "execution_count": null,
      "outputs": []
    },
    {
      "cell_type": "code",
      "metadata": {
        "id": "X21LYi-61GZM"
      },
      "source": [
        "size = 100\n",
        "data = []\n",
        "for i in category:\n",
        "  x=os.path.join(directory,i)\n",
        "  for img in os.listdir(x):\n",
        "    img_path = os.path.join(x,img)\n",
        "    img_arr = cv2.imread(img_path)\n",
        "    img_arr = cv2.resize(img_arr, (size,size))\n",
        "    label = category.index(i)\n",
        "    #plt.imshow(img_arr)\n",
        "    data.append([img_arr, label])\n",
        "\n",
        "    \"\"\"\n",
        "    x is basically the variable for Folder\n",
        "    i variable is used in place of the category (thats iterating throughout the folders)\n",
        "    os.path.join - \n",
        "    imread -  method loads an image from the specified file. \n",
        "    If the image cannot be read then this method returns an empty matrix.\n",
        "    imshow -  display data as an image; i.e. on a 2D regular raster.\n",
        "     \"\"\""
      ],
      "execution_count": null,
      "outputs": []
    },
    {
      "cell_type": "code",
      "metadata": {
        "colab": {
          "base_uri": "https://localhost:8080/"
        },
        "id": "Tfm4usH3ytOB",
        "outputId": "344752d9-fe69-4094-a17b-93f9ebd9a4cc"
      },
      "source": [
        "len(data)"
      ],
      "execution_count": null,
      "outputs": [
        {
          "data": {
            "text/plain": [
              "23000"
            ]
          },
          "execution_count": 10,
          "metadata": {},
          "output_type": "execute_result"
        }
      ]
    },
    {
      "cell_type": "code",
      "metadata": {
        "id": "XBSYFSMz2jpK"
      },
      "source": [
        "random.shuffle(data)"
      ],
      "execution_count": null,
      "outputs": []
    },
    {
      "cell_type": "code",
      "metadata": {
        "id": "8OJVJAh12rNZ"
      },
      "source": [
        "X = []\n",
        "Y = []\n",
        "for features,labels in data:\n",
        "  X.append(features)\n",
        "  Y.append(labels)"
      ],
      "execution_count": null,
      "outputs": []
    },
    {
      "cell_type": "code",
      "metadata": {
        "id": "6n90VEjk3lKl"
      },
      "source": [
        "X=np.array(X,dtype= \"float32\")\n",
        "Y=np.array(Y,dtype= \"float32\")"
      ],
      "execution_count": null,
      "outputs": []
    },
    {
      "cell_type": "code",
      "metadata": {
        "id": "zay1ymHF32rU"
      },
      "source": [
        "X=pickle.dump(X,open('X.pkl','wb'))\n",
        "Y=pickle.dump(Y,open('Y.pkl','wb'))"
      ],
      "execution_count": null,
      "outputs": []
    },
    {
      "cell_type": "code",
      "metadata": {
        "id": "gUo149kw6jb3"
      },
      "source": [
        "X=pickle.load(open('X.pkl','rb'))\n",
        "Y=pickle.load(open('Y.pkl','rb'))"
      ],
      "execution_count": null,
      "outputs": []
    },
    {
      "cell_type": "code",
      "metadata": {
        "id": "iax8DvRpQG_d"
      },
      "source": [
        "#why do we save our files as Pickle Files?\n",
        "#why will the matrix have values only from 0 to 255? for X\n",
        "#and for y we have 0s and 1s that are basically for cats and for dogs\n",
        "#"
      ],
      "execution_count": null,
      "outputs": []
    },
    {
      "cell_type": "code",
      "metadata": {
        "colab": {
          "base_uri": "https://localhost:8080/"
        },
        "id": "hyOtkq6QJLZC",
        "outputId": "ad2adb60-a53f-43cc-b593-fc252c9671f0"
      },
      "source": [
        "X.shape"
      ],
      "execution_count": null,
      "outputs": [
        {
          "data": {
            "text/plain": [
              "(23000, 100, 100, 3)"
            ]
          },
          "execution_count": 17,
          "metadata": {},
          "output_type": "execute_result"
        }
      ]
    },
    {
      "cell_type": "code",
      "metadata": {
        "id": "93fwRpD6ZKQR"
      },
      "source": [
        "from keras.models import Sequential\n",
        "from keras.layers import Conv2D, MaxPooling2D, Flatten, Dense"
      ],
      "execution_count": null,
      "outputs": []
    },
    {
      "cell_type": "code",
      "metadata": {
        "id": "Jx8li9_gZa36"
      },
      "source": [
        "model = Sequential()\n",
        "\n",
        "model.add(Conv2D(64, (3,3), activation = 'relu'))\n",
        "model.add(MaxPooling2D((2,2)))\n",
        "\n",
        "model.add(Conv2D(64, (3,3), activation = 'relu'))\n",
        "model.add(MaxPooling2D((2,2)))\n",
        "\n",
        "model.add(Flatten())"
      ],
      "execution_count": null,
      "outputs": []
    },
    {
      "cell_type": "code",
      "metadata": {
        "id": "MLwhydOKZypK"
      },
      "source": [
        "model.add(Dense(128, input_shape = X.shape[1:], activation = 'relu'))\n",
        "model.add(Dense(2, activation='softmax'))"
      ],
      "execution_count": null,
      "outputs": []
    },
    {
      "cell_type": "code",
      "metadata": {
        "id": "ZCTV4_1KaqmF"
      },
      "source": [
        "model.compile(optimizer='adam', loss='sparse_categorical_crossentropy', metrics=['accuracy'])"
      ],
      "execution_count": null,
      "outputs": []
    },
    {
      "cell_type": "code",
      "metadata": {
        "colab": {
          "background_save": true,
          "base_uri": "https://localhost:8080/"
        },
        "id": "2dHbCZ59RLVO",
        "outputId": "d58943f7-1c86-439a-9657-1ea498eb2a80"
      },
      "source": [
        "model.fit(X,Y, epochs=5, validation_split = 0.1 )"
      ],
      "execution_count": null,
      "outputs": [
        {
          "name": "stdout",
          "output_type": "stream",
          "text": [
            "Epoch 1/5\n",
            "647/647 [==============================] - 443s 683ms/step - loss: 4.7202 - accuracy: 0.5393 - val_loss: 0.6832 - val_accuracy: 0.5509\n",
            "Epoch 2/5\n",
            "647/647 [==============================] - 437s 676ms/step - loss: 0.6681 - accuracy: 0.5740 - val_loss: 0.6873 - val_accuracy: 0.5470\n",
            "Epoch 3/5\n",
            "647/647 [==============================] - 438s 677ms/step - loss: 0.6335 - accuracy: 0.6098 - val_loss: 0.7127 - val_accuracy: 0.5426\n",
            "Epoch 4/5\n",
            "647/647 [==============================] - 467s 722ms/step - loss: 0.5899 - accuracy: 0.6515 - val_loss: 0.7479 - val_accuracy: 0.5665\n",
            "Epoch 5/5\n",
            "647/647 [==============================] - 467s 722ms/step - loss: 0.5385 - accuracy: 0.6937 - val_loss: 0.8083 - val_accuracy: 0.5691\n"
          ]
        },
        {
          "data": {
            "text/plain": [
              "<keras.callbacks.History at 0x7fde740b3f10>"
            ]
          },
          "execution_count": null,
          "metadata": {},
          "output_type": "execute_result"
        }
      ]
    },
    {
      "cell_type": "code",
      "metadata": {
        "colab": {
          "background_save": true,
          "base_uri": "https://localhost:8080/"
        },
        "id": "PcUFs1zMRuG5",
        "outputId": "696e7dd6-7f69-4668-fa93-72d4880be75d"
      },
      "source": [
        "type(X)\n"
      ],
      "execution_count": null,
      "outputs": [
        {
          "data": {
            "text/plain": [
              "numpy.ndarray"
            ]
          },
          "execution_count": null,
          "metadata": {},
          "output_type": "execute_result"
        }
      ]
    },
    {
      "cell_type": "code",
      "metadata": {
        "colab": {
          "background_save": true,
          "base_uri": "https://localhost:8080/"
        },
        "id": "CO13xuJ4x02Z",
        "outputId": "cea9fea7-62c0-4161-da64-5d957894642e"
      },
      "source": [
        "type(Y)"
      ],
      "execution_count": null,
      "outputs": [
        {
          "data": {
            "text/plain": [
              "numpy.ndarray"
            ]
          },
          "execution_count": null,
          "metadata": {},
          "output_type": "execute_result"
        }
      ]
    },
    {
      "cell_type": "code",
      "metadata": {
        "id": "ZZLhGRMwQUzP"
      },
      "source": [
        "directory = r'/content/dogscats/test1'\n",
        "category = ['cats','dogs']"
      ],
      "execution_count": null,
      "outputs": []
    },
    {
      "cell_type": "code",
      "metadata": {
        "colab": {
          "background_save": true
        },
        "id": "169jd6lIx3Rx"
      },
      "source": [
        "size = 100\n",
        "data = []\n",
        "for image in os.listdir(directory):\n",
        "  img_path = os.path.join(directory, image)\n",
        "  img_arr = cv2.imread(img_path)\n",
        "  img_arr = cv2.resize(img_arr, (size,size))\n",
        "  label = category.index(i)\n",
        "  #plt.imshow(img_arr)\n",
        "  data.append([img_arr, label])"
      ],
      "execution_count": null,
      "outputs": []
    },
    {
      "cell_type": "code",
      "metadata": {
        "id": "v6KjEnF_QmVJ"
      },
      "source": [
        "X = []\n",
        "Y = []\n",
        "for features,labels in data:\n",
        "  X.append(features)\n",
        "  Y.append(labels)\n",
        "X=np.array(X,dtype= \"float32\")\n",
        "Y=np.array(Y,dtype= \"float32\")"
      ],
      "execution_count": null,
      "outputs": []
    },
    {
      "cell_type": "code",
      "metadata": {
        "colab": {
          "base_uri": "https://localhost:8080/"
        },
        "id": "C0TVJIYFRYGD",
        "outputId": "dcf3adb9-04a0-437e-bbce-1f9fcea9f551"
      },
      "source": [
        "model.evaluate(X,Y)"
      ],
      "execution_count": null,
      "outputs": [
        {
          "name": "stdout",
          "output_type": "stream",
          "text": [
            "391/391 [==============================] - 4s 11ms/step - loss: 1.0187 - accuracy: 0.5960\n"
          ]
        },
        {
          "data": {
            "text/plain": [
              "[1.0187273025512695, 0.5960000157356262]"
            ]
          },
          "execution_count": 30,
          "metadata": {},
          "output_type": "execute_result"
        }
      ]
    },
    {
      "cell_type": "code",
      "metadata": {
        "id": "aSfCeepzRhSu"
      },
      "source": [
        ""
      ],
      "execution_count": null,
      "outputs": []
    }
  ]
}